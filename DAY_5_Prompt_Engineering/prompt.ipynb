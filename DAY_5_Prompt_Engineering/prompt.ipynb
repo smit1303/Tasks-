{
  "nbformat": 4,
  "nbformat_minor": 0,
  "metadata": {
    "colab": {
      "provenance": []
    },
    "kernelspec": {
      "name": "python3",
      "display_name": "Python 3"
    },
    "language_info": {
      "name": "python"
    }
  },
  "cells": [
    {
      "cell_type": "code",
      "source": [
        "! pip install requests\n"
      ],
      "metadata": {
        "colab": {
          "base_uri": "https://localhost:8080/"
        },
        "id": "Aje5cYvpV-yo",
        "outputId": "e42eb300-1376-40e5-8344-f3d72ca9f0bf"
      },
      "execution_count": 7,
      "outputs": [
        {
          "output_type": "stream",
          "name": "stdout",
          "text": [
            "Requirement already satisfied: requests in /usr/local/lib/python3.11/dist-packages (2.32.3)\n",
            "Requirement already satisfied: charset-normalizer<4,>=2 in /usr/local/lib/python3.11/dist-packages (from requests) (3.4.2)\n",
            "Requirement already satisfied: idna<4,>=2.5 in /usr/local/lib/python3.11/dist-packages (from requests) (3.10)\n",
            "Requirement already satisfied: urllib3<3,>=1.21.1 in /usr/local/lib/python3.11/dist-packages (from requests) (2.4.0)\n",
            "Requirement already satisfied: certifi>=2017.4.17 in /usr/local/lib/python3.11/dist-packages (from requests) (2025.6.15)\n"
          ]
        }
      ]
    },
    {
      "cell_type": "code",
      "source": [
        "!pip install groq"
      ],
      "metadata": {
        "colab": {
          "base_uri": "https://localhost:8080/"
        },
        "id": "gtZSLRoCSFXr",
        "outputId": "2ca5ef51-5930-490d-d39d-35dd6fd853d1"
      },
      "execution_count": 3,
      "outputs": [
        {
          "output_type": "stream",
          "name": "stdout",
          "text": [
            "Collecting groq\n",
            "  Downloading groq-0.29.0-py3-none-any.whl.metadata (16 kB)\n",
            "Requirement already satisfied: anyio<5,>=3.5.0 in /usr/local/lib/python3.11/dist-packages (from groq) (4.9.0)\n",
            "Requirement already satisfied: distro<2,>=1.7.0 in /usr/local/lib/python3.11/dist-packages (from groq) (1.9.0)\n",
            "Requirement already satisfied: httpx<1,>=0.23.0 in /usr/local/lib/python3.11/dist-packages (from groq) (0.28.1)\n",
            "Requirement already satisfied: pydantic<3,>=1.9.0 in /usr/local/lib/python3.11/dist-packages (from groq) (2.11.7)\n",
            "Requirement already satisfied: sniffio in /usr/local/lib/python3.11/dist-packages (from groq) (1.3.1)\n",
            "Requirement already satisfied: typing-extensions<5,>=4.10 in /usr/local/lib/python3.11/dist-packages (from groq) (4.14.0)\n",
            "Requirement already satisfied: idna>=2.8 in /usr/local/lib/python3.11/dist-packages (from anyio<5,>=3.5.0->groq) (3.10)\n",
            "Requirement already satisfied: certifi in /usr/local/lib/python3.11/dist-packages (from httpx<1,>=0.23.0->groq) (2025.6.15)\n",
            "Requirement already satisfied: httpcore==1.* in /usr/local/lib/python3.11/dist-packages (from httpx<1,>=0.23.0->groq) (1.0.9)\n",
            "Requirement already satisfied: h11>=0.16 in /usr/local/lib/python3.11/dist-packages (from httpcore==1.*->httpx<1,>=0.23.0->groq) (0.16.0)\n",
            "Requirement already satisfied: annotated-types>=0.6.0 in /usr/local/lib/python3.11/dist-packages (from pydantic<3,>=1.9.0->groq) (0.7.0)\n",
            "Requirement already satisfied: pydantic-core==2.33.2 in /usr/local/lib/python3.11/dist-packages (from pydantic<3,>=1.9.0->groq) (2.33.2)\n",
            "Requirement already satisfied: typing-inspection>=0.4.0 in /usr/local/lib/python3.11/dist-packages (from pydantic<3,>=1.9.0->groq) (0.4.1)\n",
            "Downloading groq-0.29.0-py3-none-any.whl (130 kB)\n",
            "\u001b[?25l   \u001b[90m━━━━━━━━━━━━━━━━━━━━━━━━━━━━━━━━━━━━━━━━\u001b[0m \u001b[32m0.0/130.8 kB\u001b[0m \u001b[31m?\u001b[0m eta \u001b[36m-:--:--\u001b[0m\r\u001b[2K   \u001b[91m━━━━━━━━━━━━━━━━━━━━━━━━━━━━━━━━━━━━━\u001b[0m\u001b[91m╸\u001b[0m\u001b[90m━━\u001b[0m \u001b[32m122.9/130.8 kB\u001b[0m \u001b[31m4.7 MB/s\u001b[0m eta \u001b[36m0:00:01\u001b[0m\r\u001b[2K   \u001b[90m━━━━━━━━━━━━━━━━━━━━━━━━━━━━━━━━━━━━━━━━\u001b[0m \u001b[32m130.8/130.8 kB\u001b[0m \u001b[31m3.4 MB/s\u001b[0m eta \u001b[36m0:00:00\u001b[0m\n",
            "\u001b[?25hInstalling collected packages: groq\n",
            "Successfully installed groq-0.29.0\n"
          ]
        }
      ]
    },
    {
      "cell_type": "code",
      "source": [
        "from groq import Groq\n",
        "from google.colab import userdata\n",
        "import os"
      ],
      "metadata": {
        "id": "9M4EHFe7STZm"
      },
      "execution_count": 6,
      "outputs": []
    },
    {
      "cell_type": "markdown",
      "source": [
        "##**Few-shot Prompting**##"
      ],
      "metadata": {
        "id": "VOhP7_z4ZKnm"
      }
    },
    {
      "cell_type": "code",
      "source": [
        "import os\n",
        "from groq import Groq\n",
        "from google.colab import userdata\n",
        "\n",
        "client = Groq(\n",
        "    api_key=userdata.get(\"Groq_Api  \")\n",
        ")\n",
        "\n",
        "chat_completion = client.chat.completions.create(\n",
        "    messages=[\n",
        "        {\n",
        "            \"role\": \"system\",\n",
        "            \"content\": \"You are a helpful assistant that writes professional email closings based on the provided context.\"\n",
        "        },\n",
        "        # Few-shot example 1\n",
        "        {\n",
        "            \"role\": \"user\",\n",
        "            \"content\": \"Context: Closing for a thank-you email after a job interview.\"\n",
        "        },\n",
        "        {\n",
        "            \"role\": \"assistant\",\n",
        "            \"content\": \"\"\"Thank you again for your time and consideration. I look forward to the possibility of working together.\n",
        "\n",
        "Best regards,\n",
        "[Your Name]\"\"\"\n",
        "        },\n",
        "        # Few-shot example 2\n",
        "        {\n",
        "            \"role\": \"user\",\n",
        "            \"content\": \"Context: Closing for an email sending a project update to a client.\"\n",
        "        },\n",
        "        {\n",
        "            \"role\": \"assistant\",\n",
        "            \"content\": \"\"\"Please let me know if you have any feedback or questions.\n",
        "\n",
        "Warm regards,\n",
        "[Your Name]\"\"\"\n",
        "        },\n",
        "        # New prompt (user input)\n",
        "        {\n",
        "            \"role\": \"user\",\n",
        "            \"content\": \"Context: Closing for an email sharing monthly performance report with internal team.\"\n",
        "        }\n",
        "    ],\n",
        "    model=\"llama-3.3-70b-versatile\"\n",
        ")\n",
        "\n",
        "print(chat_completion.choices[0].message.content)\n"
      ],
      "metadata": {
        "colab": {
          "base_uri": "https://localhost:8080/"
        },
        "id": "7tNBN5wuSuqM",
        "outputId": "f8b46274-b1f0-4222-b6f6-a6ee2f046551"
      },
      "execution_count": 9,
      "outputs": [
        {
          "output_type": "stream",
          "name": "stdout",
          "text": [
            "I welcome any questions or discussions regarding the report. Thank you for your hard work and contributions to our team's success.\n",
            "\n",
            "Best regards,\n",
            "[Your Name]\n"
          ]
        }
      ]
    },
    {
      "cell_type": "markdown",
      "source": [
        "# **Style Switching**"
      ],
      "metadata": {
        "id": "IIj1lihcZUPO"
      }
    },
    {
      "cell_type": "code",
      "source": [
        "import os\n",
        "from groq import Groq\n",
        "from google.colab import userdata\n",
        "\n",
        "client = Groq(\n",
        "    api_key=userdata.get(\"Groq_Api\")\n",
        ")\n",
        "\n",
        "chat_completion = client.chat.completions.create(\n",
        "    messages=[\n",
        "        {\n",
        "            \"role\": \"system\",\n",
        "            \"content\": \"You are an assistant that answers each question in two distinct styles:\\n\"\n",
        "                       \"First: In Shakespearean English\\n\"\n",
        "                       \"Second: In formal technical prose.\\n\"\n",
        "                       \"Label each style clearly.\"\n",
        "        },\n",
        "        {\n",
        "            \"role\": \"user\",\n",
        "            \"content\": \"What is gravity?\"\n",
        "        }\n",
        "    ],\n",
        "    model=\"llama-3.3-70b-versatile\",\n",
        "    temperature=0.7,\n",
        "    max_tokens=300\n",
        ")\n",
        "\n",
        "print(chat_completion.choices[0].message.content)\n"
      ],
      "metadata": {
        "colab": {
          "base_uri": "https://localhost:8080/"
        },
        "id": "u59Vw40gZJU9",
        "outputId": "69adad86-41ff-400f-ef86-743aff808fba"
      },
      "execution_count": 11,
      "outputs": [
        {
          "output_type": "stream",
          "name": "stdout",
          "text": [
            "**Shakespearean English**\n",
            "O, fair sir, thou seekest knowledge of gravity's might,\n",
            "A force that doth bind thee to the earth's dark night.\n",
            "'Tis a power that warps the fabric of space and time,\n",
            "A gentle tug that keeps thy feet in rhyme.\n",
            "The earth, a sphere of mass, doth exert its sway,\n",
            "And thou, a humble mortal, art drawn to stay.\n",
            "The moon, a glowing orb, doth feel its gentle hand,\n",
            "And in its orbit, a constant dance doth stand.\n",
            "Gravity, a mystic force, that doth shape our fate,\n",
            "A universal power, that doth create and wait.\n",
            "\n",
            "**Formal Technical Prose**\n",
            "Gravity refers to the fundamental physical force that governs the interaction between objects with mass or energy. It is a universal force that arises from the curvature of spacetime caused by the presence of mass and energy, as described by the theory of general relativity. Gravity is a long-range force that acts between two objects, with the magnitude of the force decreasing with the square of the distance between them. The gravitational force is proportional to the product of the masses of the two objects and inversely proportional to the square of the distance between their centers. Gravity plays a crucial role in shaping the large-scale structure of the universe, from the formation of galaxies and stars to the motion of planets and other celestial bodies. The gravitational force is a key component of the standard model of cosmology and is essential for\n"
          ]
        }
      ]
    },
    {
      "cell_type": "markdown",
      "source": [
        "# **Structured JSON Output**"
      ],
      "metadata": {
        "id": "8BToTINoacXK"
      }
    },
    {
      "cell_type": "code",
      "source": [
        "import os\n",
        "from groq import Groq\n",
        "from google.colab import userdata\n",
        "\n",
        "client = Groq(api_key=userdata.get(\"Groq_Api\"))\n",
        "\n",
        "system_prompt = {\n",
        "    \"role\": \"system\",\n",
        "    \"content\": (\n",
        "        \"You are an assistant that answers each question in valid JSON format only, with no extra text.\\n\"\n",
        "        \"Format strictly as:\\n\"\n",
        "        \"{\\n\"\n",
        "        '  \"question\": \"The original question\",\\n'\n",
        "        '  \"answer\": \"The correct answer\",\\n'\n",
        "        '  \"sources\": [\"source1\", \"source2\"]\\n'\n",
        "        \"}\\n\"\n",
        "        \"Do not include explanations or commentary outside the JSON object. Ensure proper JSON syntax.\"\n",
        "    )\n",
        "}\n",
        "\n",
        "test_queries = [\n",
        "    \"What is the speed of light in vacuum?\",\n",
        "    \"Who developed the theory of general relativity?\",\n",
        "    \"What is the largest planet in our solar system?\"\n",
        "]\n",
        "\n",
        "\n",
        "for query in test_queries:\n",
        "    response = client.chat.completions.create(\n",
        "        model=\"llama-3.3-70b-versatile\",\n",
        "        messages=[\n",
        "            system_prompt,\n",
        "            {\"role\": \"user\", \"content\": query}\n",
        "        ]\n",
        "    )\n",
        "    print(response.choices[0].message.content)\n",
        "    print(\"\\n---\\n\")\n"
      ],
      "metadata": {
        "colab": {
          "base_uri": "https://localhost:8080/"
        },
        "id": "T1kBQMfpaHrN",
        "outputId": "e52b71bb-cb34-4c93-be4f-0902ed56c917"
      },
      "execution_count": 15,
      "outputs": [
        {
          "output_type": "stream",
          "name": "stdout",
          "text": [
            "{\n",
            "  \"question\": \"What is the speed of light in vacuum?\",\n",
            "  \"answer\": \"299,792,458 meters per second\",\n",
            "  \"sources\": [\"National Institute of Standards and Technology\", \"International System of Units\"]\n",
            "}\n",
            "\n",
            "---\n",
            "\n",
            "{\n",
            "  \"question\": \"Who developed the theory of general relativity?\",\n",
            "  \"answer\": \"Albert Einstein\",\n",
            "  \"sources\": [\"National Geographic\", \"Wikipedia\"]\n",
            "}\n",
            "\n",
            "---\n",
            "\n",
            "{\n",
            "  \"question\": \"What is the largest planet in our solar system?\",\n",
            "  \"answer\": \"Jupiter\",\n",
            "  \"sources\": [\"NASA\", \"National Geographic\"]\n",
            "}\n",
            "\n",
            "---\n",
            "\n"
          ]
        }
      ]
    }
  ]
}