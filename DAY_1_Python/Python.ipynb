{
  "nbformat": 4,
  "nbformat_minor": 0,
  "metadata": {
    "colab": {
      "provenance": []
    },
    "kernelspec": {
      "name": "python3",
      "display_name": "Python 3"
    },
    "language_info": {
      "name": "python"
    }
  },
  "cells": [
    {
      "cell_type": "code",
      "execution_count": null,
      "metadata": {
        "colab": {
          "base_uri": "https://localhost:8080/"
        },
        "id": "1ewSD8LugtTE",
        "outputId": "a97a7c2d-4c71-449c-ff19-07ab549958e5"
      },
      "outputs": [
        {
          "output_type": "stream",
          "name": "stdout",
          "text": [
            "5\n",
            "120\n"
          ]
        }
      ],
      "source": [
        "n = int(input())\n",
        "f = 1\n",
        "\n",
        "for i in range(1,n+1):\n",
        "  f*=i\n",
        "\n",
        "print(f)\n"
      ]
    },
    {
      "cell_type": "code",
      "source": [
        "def fac(n):\n",
        "  if n < 0 :\n",
        "    return \"Factorial is not defined for negative numbers\"\n",
        "  else:\n",
        "    f=1\n",
        "\n",
        "    for i in range(1,n+1):\n",
        "      f*=i\n",
        "\n",
        "    return f\n",
        "\n",
        "fac(5)"
      ],
      "metadata": {
        "colab": {
          "base_uri": "https://localhost:8080/"
        },
        "id": "Z86FW0b4hy9F",
        "outputId": "6273d01c-fcf7-4da4-8c21-c87dabdab128"
      },
      "execution_count": null,
      "outputs": [
        {
          "output_type": "execute_result",
          "data": {
            "text/plain": [
              "120"
            ]
          },
          "metadata": {},
          "execution_count": 8
        }
      ]
    },
    {
      "cell_type": "code",
      "source": [
        "def factorial(n):\n",
        "  if n==0 or n==1:\n",
        "    return 1\n",
        "  else:\n",
        "    return n *factorial(n-1)\n",
        "\n",
        "factorial(5)"
      ],
      "metadata": {
        "colab": {
          "base_uri": "https://localhost:8080/"
        },
        "id": "9mHaKdUzhUYY",
        "outputId": "1db612c7-c41b-4191-8edf-9a8c91a15aa0"
      },
      "execution_count": null,
      "outputs": [
        {
          "output_type": "execute_result",
          "data": {
            "text/plain": [
              "120"
            ]
          },
          "metadata": {},
          "execution_count": 4
        }
      ]
    },
    {
      "cell_type": "code",
      "source": [
        "def clean_word(word):\n",
        "    cleaned = ''\n",
        "    for char in word:\n",
        "        if char.isalpha() or char == \"'\":\n",
        "            cleaned += char.lower()\n",
        "    return cleaned\n",
        "\n",
        "def tally_word_counts(file_path):\n",
        "    word_counts = {}\n",
        "\n",
        "    with open(file_path, 'r') as file:\n",
        "        for line in file:\n",
        "            words = line.strip().split()\n",
        "            for word in words:\n",
        "                cleaned_word = clean_word(word)\n",
        "                if cleaned_word:\n",
        "                    if cleaned_word in word_counts:\n",
        "                        word_counts[cleaned_word] += 1\n",
        "                    else:\n",
        "                        word_counts[cleaned_word] = 1\n",
        "\n",
        "    word_count_list = list(word_counts.items())\n",
        "\n",
        "    # Manual sorting\n",
        "    for i in range(len(word_count_list)):\n",
        "        for j in range(i + 1, len(word_count_list)):\n",
        "            if word_count_list[i][1] < word_count_list[j][1] or (\n",
        "                word_count_list[i][1] == word_count_list[j][1] and word_count_list[i][0] > word_count_list[j][0]\n",
        "            ):\n",
        "                word_count_list[i], word_count_list[j] = word_count_list[j], word_count_list[i]\n",
        "\n",
        "    print(\"Top 10 most frequent words:\")\n",
        "    for i in range(min(10, len(word_count_list))):\n",
        "        word, count = word_count_list[i]\n",
        "        print(f\"{word}: {count}\")\n"
      ],
      "metadata": {
        "id": "Qk8buVUpiZUR"
      },
      "execution_count": null,
      "outputs": []
    },
    {
      "cell_type": "code",
      "source": [
        "tally_word_counts('/content/sample.txt')"
      ],
      "metadata": {
        "colab": {
          "base_uri": "https://localhost:8080/"
        },
        "id": "_6VP2fci5xTV",
        "outputId": "82670b60-254b-48a0-f89a-25e7146b37c5"
      },
      "execution_count": null,
      "outputs": [
        {
          "output_type": "stream",
          "name": "stdout",
          "text": [
            "Top 10 most frequent words:\n",
            "test: 4\n",
            "you: 4\n",
            "a: 3\n",
            "hello: 3\n",
            "is: 3\n",
            "this: 3\n",
            "are: 2\n",
            "instructions: 2\n",
            "remain: 2\n",
            "the: 2\n"
          ]
        }
      ]
    },
    {
      "cell_type": "code",
      "source": [
        "def display_menu():\n",
        "    print(\"\\n--- Contact Book Menu ---\")\n",
        "    print(\"1. Add Contact\")\n",
        "    print(\"2. Delete Contact\")\n",
        "    print(\"3. Search Contact\")\n",
        "    print(\"4. Display All Contacts\")\n",
        "    print(\"5. Exit\")\n",
        "\n",
        "def add_contact(contacts):\n",
        "    name = input(\"Enter contact name: \").strip()\n",
        "    if name in contacts:\n",
        "        print(\"Contact already exists.\")\n",
        "    else:\n",
        "        number = input(\"Enter 10-digit phone number: \").strip()\n",
        "        if number.isdigit() and len(number) == 10:\n",
        "            contacts[name] = number\n",
        "            print(\"Contact added.\")\n",
        "        else:\n",
        "            print(\"Invalid phone number. It must be exactly 10 digits.\")\n",
        "\n",
        "def delete_contact(contacts):\n",
        "    name = input(\"Enter contact name to delete: \").strip()\n",
        "    if name in contacts:\n",
        "        del contacts[name]\n",
        "        print(\"Contact deleted.\")\n",
        "    else:\n",
        "        print(\"Contact not found.\")\n",
        "\n",
        "def search_contact(contacts):\n",
        "    name = input(\"Enter contact name to search: \").strip()\n",
        "    if name in contacts:\n",
        "        print(f\"{name}: {contacts[name]}\")\n",
        "    else:\n",
        "        print(\"Contact not found.\")\n",
        "\n",
        "def display_contacts(contacts):\n",
        "    if contacts:\n",
        "        print(\"\\n--- All Contacts ---\")\n",
        "        for name, number in contacts.items():\n",
        "            print(f\"{name}: {number}\")\n",
        "    else:\n",
        "        print(\"No contacts to display.\")\n",
        "\n",
        "# Run the Contact Book directly (no __main__ check)\n",
        "contacts = {}\n",
        "\n",
        "while True:\n",
        "    display_menu()\n",
        "    choice = input(\"Enter your choice (1-5): \").strip()\n",
        "\n",
        "    if choice == '1':\n",
        "        add_contact(contacts)\n",
        "    elif choice == '2':\n",
        "        delete_contact(contacts)\n",
        "    elif choice == '3':\n",
        "        search_contact(contacts)\n",
        "    elif choice == '4':\n",
        "        display_contacts(contacts)\n",
        "    elif choice == '5':\n",
        "        print(\"Exiting Contact Book. Goodbye!\")\n",
        "        break\n",
        "    else:\n",
        "        print(\"Invalid choice. Please enter a number between 1 and 5.\")\n"
      ],
      "metadata": {
        "id": "pIRZWO4WSelj"
      },
      "execution_count": null,
      "outputs": []
    },
    {
      "cell_type": "code",
      "source": [
        "def run_contact_book():\n",
        "    contacts = {}\n",
        "\n",
        "    def display_menu():\n",
        "        print(\"\\n--- Contact Book Menu ---\")\n",
        "        print(\"1. Add Contact\")\n",
        "        print(\"2. Delete Contact\")\n",
        "        print(\"3. Search Contact\")\n",
        "        print(\"4. Display All Contacts\")\n",
        "        print(\"5. Exit\")\n",
        "\n",
        "    while True:\n",
        "        display_menu()\n",
        "        choice = input(\"Enter your choice (1-5): \").strip()\n",
        "\n",
        "        if choice == '1':\n",
        "            name = input(\"Enter contact name: \").strip()\n",
        "            if name in contacts:\n",
        "                print(\"Contact already exists.\")\n",
        "            else:\n",
        "                number = input(\"Enter 10-digit phone number: \").strip()\n",
        "                if number.isdigit() and len(number) == 10:\n",
        "                    contacts[name] = number\n",
        "                    print(\"Contact added.\")\n",
        "                else:\n",
        "                    print(\"Invalid phone number. It must be exactly 10 digits.\")\n",
        "\n",
        "        elif choice == '2':\n",
        "            name = input(\"Enter contact name to delete: \").strip()\n",
        "            if name in contacts:\n",
        "                del contacts[name]\n",
        "                print(\"Contact deleted.\")\n",
        "            else:\n",
        "                print(\"Contact not found.\")\n",
        "\n",
        "        elif choice == '3':\n",
        "            name = input(\"Enter contact name to search: \").strip()\n",
        "            if name in contacts:\n",
        "                print(f\"{name}: {contacts[name]}\")\n",
        "            else:\n",
        "                print(\"Contact not found.\")\n",
        "\n",
        "        elif choice == '4':\n",
        "            if contacts:\n",
        "                print(\"\\n--- All Contacts ---\")\n",
        "                for name, number in contacts.items():\n",
        "                    print(f\"{name}: {number}\")\n",
        "            else:\n",
        "                print(\"No contacts to display.\")\n",
        "\n",
        "        elif choice == '5':\n",
        "            print(\"Exiting Contact Book. Goodbye!\")\n",
        "            break\n",
        "\n",
        "        else:\n",
        "            print(\"Invalid choice. Please enter a number between 1 and 5.\")\n",
        "\n",
        "    return contacts"
      ],
      "metadata": {
        "id": "SmKt0ASRTH6g"
      },
      "execution_count": null,
      "outputs": []
    },
    {
      "cell_type": "code",
      "source": [
        "run_contact_book()"
      ],
      "metadata": {
        "colab": {
          "base_uri": "https://localhost:8080/"
        },
        "id": "_yon0u1JThxl",
        "outputId": "839c4a9d-bfd9-4e5a-c1b0-11d118f6dd53"
      },
      "execution_count": null,
      "outputs": [
        {
          "output_type": "stream",
          "name": "stdout",
          "text": [
            "\n",
            "--- Contact Book Menu ---\n",
            "1. Add Contact\n",
            "2. Delete Contact\n",
            "3. Search Contact\n",
            "4. Display All Contacts\n",
            "5. Exit\n",
            "Enter your choice (1-5): 1\n",
            "Enter contact name: smit\n",
            "Enter 10-digit phone number: 6355382727\n",
            "Contact added.\n",
            "\n",
            "--- Contact Book Menu ---\n",
            "1. Add Contact\n",
            "2. Delete Contact\n",
            "3. Search Contact\n",
            "4. Display All Contacts\n",
            "5. Exit\n",
            "Enter your choice (1-5): 1\n",
            "Enter contact name: Smit2\n",
            "Enter 10-digit phone number: 6352927383\n",
            "Contact added.\n",
            "\n",
            "--- Contact Book Menu ---\n",
            "1. Add Contact\n",
            "2. Delete Contact\n",
            "3. Search Contact\n",
            "4. Display All Contacts\n",
            "5. Exit\n",
            "Enter your choice (1-5): Dhruvil\n",
            "Invalid choice. Please enter a number between 1 and 5.\n",
            "\n",
            "--- Contact Book Menu ---\n",
            "1. Add Contact\n",
            "2. Delete Contact\n",
            "3. Search Contact\n",
            "4. Display All Contacts\n",
            "5. Exit\n",
            "Enter your choice (1-5): 1\n",
            "Enter contact name: Dhruvil \n",
            "Enter 10-digit phone number: 9106754545\n",
            "Contact added.\n",
            "\n",
            "--- Contact Book Menu ---\n",
            "1. Add Contact\n",
            "2. Delete Contact\n",
            "3. Search Contact\n",
            "4. Display All Contacts\n",
            "5. Exit\n",
            "Enter your choice (1-5): 5\n",
            "Exiting Contact Book. Goodbye!\n"
          ]
        },
        {
          "output_type": "execute_result",
          "data": {
            "text/plain": [
              "{'smit': '6355382727', 'Smit2': '6352927383', 'Dhruvil': '9106754545'}"
            ]
          },
          "metadata": {},
          "execution_count": 24
        }
      ]
    },
    {
      "cell_type": "code",
      "source": [
        "def run_todo_app():\n",
        "    FILE_NAME = \"/content/todo.txt\"\n",
        "\n",
        "    def load_tasks():\n",
        "        try:\n",
        "            with open(FILE_NAME, 'r') as file:\n",
        "                return [line.strip() for line in file.readlines()]\n",
        "        except FileNotFoundError:\n",
        "            return []\n",
        "\n",
        "    def save_tasks(tasks):\n",
        "        with open(FILE_NAME, 'w') as file:\n",
        "            for task in tasks:\n",
        "                file.write(task + \"\\n\")\n",
        "\n",
        "    def display_tasks(tasks):\n",
        "        if not tasks:\n",
        "            print(\"No tasks yet.\")\n",
        "            return\n",
        "        print(\"\\n--- Your To-Do List ---\")\n",
        "        for i, task in enumerate(tasks, 1):\n",
        "            print(f\"{i}. {task}\")\n",
        "\n",
        "    def add_task(tasks):\n",
        "        task = input(\"Enter task description: \").strip()\n",
        "        if task:\n",
        "            tasks.append(f\"[ ] {task}\")\n",
        "            print(\"Task added.\")\n",
        "        else:\n",
        "            print(\"Empty task not added.\")\n",
        "\n",
        "    def mark_complete(tasks):\n",
        "        display_tasks(tasks)\n",
        "        try:\n",
        "            index = int(input(\"Enter task number to mark as complete: \")) - 1\n",
        "            if 0 <= index < len(tasks) and tasks[index].startswith(\"[ ]\"):\n",
        "                tasks[index] = tasks[index].replace(\"[ ]\", \"[x]\", 1)\n",
        "                print(\"Task marked as complete.\")\n",
        "            else:\n",
        "                print(\"Invalid selection or already completed.\")\n",
        "        except ValueError:\n",
        "            print(\"Invalid input.\")\n",
        "\n",
        "    def delete_task(tasks):\n",
        "        display_tasks(tasks)\n",
        "        try:\n",
        "            index = int(input(\"Enter task number to delete: \")) - 1\n",
        "            if 0 <= index < len(tasks):\n",
        "                removed = tasks.pop(index)\n",
        "                print(f\"Deleted: {removed}\")\n",
        "            else:\n",
        "                print(\"Invalid task number.\")\n",
        "        except ValueError:\n",
        "            print(\"Invalid input.\")\n",
        "\n",
        "    tasks = load_tasks()\n",
        "\n",
        "    while True:\n",
        "        print(\"\\n--- To-Do Menu ---\")\n",
        "        print(\"1. View Tasks\")\n",
        "        print(\"2. Add Task\")\n",
        "        print(\"3. Mark Task as Complete\")\n",
        "        print(\"4. Delete Task\")\n",
        "        print(\"5. Exit\")\n",
        "\n",
        "        choice = input(\"Choose an option (1-5): \").strip()\n",
        "\n",
        "        if choice == '1':\n",
        "            display_tasks(tasks)\n",
        "        elif choice == '2':\n",
        "            add_task(tasks)\n",
        "        elif choice == '3':\n",
        "            mark_complete(tasks)\n",
        "        elif choice == '4':\n",
        "            delete_task(tasks)\n",
        "        elif choice == '5':\n",
        "            save_tasks(tasks)\n",
        "            print(\"Tasks saved. Goodbye!\")\n",
        "            break\n",
        "        else:\n",
        "            print(\"Invalid choice. Please select between 1 and 5.\")\n",
        "\n",
        "    return tasks\n"
      ],
      "metadata": {
        "id": "PTT5C4mxXtE6"
      },
      "execution_count": null,
      "outputs": []
    },
    {
      "cell_type": "code",
      "source": [
        "run_todo_app()"
      ],
      "metadata": {
        "colab": {
          "base_uri": "https://localhost:8080/"
        },
        "id": "2La22-rkXu42",
        "outputId": "e40c2e71-9a96-47d0-e7b5-bbefc3359d5d"
      },
      "execution_count": null,
      "outputs": [
        {
          "output_type": "stream",
          "name": "stdout",
          "text": [
            "\n",
            "--- To-Do Menu ---\n",
            "1. View Tasks\n",
            "2. Add Task\n",
            "3. Mark Task as Complete\n",
            "4. Delete Task\n",
            "5. Exit\n",
            "Choose an option (1-5): 5\n",
            "Tasks saved. Goodbye!\n"
          ]
        },
        {
          "output_type": "execute_result",
          "data": {
            "text/plain": [
              "['[ ] Buy groceries',\n",
              " '[x] Submit Python assignment',\n",
              " '[x] Call the bank',\n",
              " '[x] Pay electricity bill',\n",
              " '[ ] Prepare for AI interview',\n",
              " '[ ] Read 10 pages of book',\n",
              " '[x] Finish CV update',\n",
              " '[ ] Water the plants',\n",
              " '[x] Book doctor appointment',\n",
              " '[x] Clean downloads folder']"
            ]
          },
          "metadata": {},
          "execution_count": 34
        }
      ]
    }
  ]
}